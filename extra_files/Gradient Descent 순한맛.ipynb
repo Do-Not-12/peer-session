{
 "cells": [
  {
   "cell_type": "markdown",
   "id": "48e99898",
   "metadata": {},
   "source": [
    "## 경사하강법"
   ]
  },
  {
   "cell_type": "markdown",
   "id": "4a989bc1",
   "metadata": {},
   "source": [
    "### 미분이란\n",
    "- differentiation은 변수의 움직임에 따른 변화를 측정하는 도구로 최적화에서 제일 많이 사용되는 기법\n",
    "- 미분은 함수 f 의 주어진점 (x, f(x))에서 접선의 기울기를 구한다."
   ]
  },
  {
   "cell_type": "markdown",
   "id": "6e781026",
   "metadata": {},
   "source": [
    "한점에서 접선의 기울기를 알면 어느 방향에서 함수값이 증가 or 감소하는지 알 수 있다.\n",
    "- 증가 시키고 싶다면 미분값을 더하고\n",
    "- 감소시키고 싶다면 미분값을 뺀다."
   ]
  },
  {
   "cell_type": "markdown",
   "id": "fea7b4c6",
   "metadata": {},
   "source": [
    "미분값이 음수라면 x+f^(x) < x 이므로 \n",
    "- 왼쪽으로 이동하면 함수값이 증가\n",
    "- 오른쪽으로 이동하면 함수값이 감소 한다.  \n",
    "\n",
    "미분값이 양수라면 x+f^(x) >> x 이므로 \n",
    "- 오른쪽으로 이동하면 함수값이 증가\n",
    "- 왼쪽으로 이동하면 함수값이 감소 한다."
   ]
  },
  {
   "cell_type": "markdown",
   "id": "a05585d2",
   "metadata": {},
   "source": [
    "미분 값을 더하면 경사상승법(gradient ascent)이며 함수의 극대값의 위치를 구할 때 사용  \n",
    "__미분 값을 빼면 경사 하강법(gradient descent) 이며 함수의 극소값의 위치를 구할 때 사용__  \n",
    "경사 상승법/ 하강법은 극값에 도달하면 움직임을 멈춘다."
   ]
  },
  {
   "cell_type": "markdown",
   "id": "ea168862",
   "metadata": {},
   "source": [
    "### 경사 하강법 알고리즘"
   ]
  },
  {
   "cell_type": "markdown",
   "id": "c2a8b394",
   "metadata": {},
   "source": [
    "__Input 값__  \n",
    "- gradient : 미분 계산 함수\n",
    "- lr : 학습률\n",
    "- eps : 학습 종료 조건\n",
    "- init : 시작점  \n",
    "\n",
    "var = init  \n",
    "grad = gradient(var)  \n",
    "while(abs(grad) > eps):  \n",
    "    var -= lr * grad __이부분이 x-f^(x)를 계산하는 부분, lr은 학습률로 미분을 통해 업데이트 속도 조절__  \n",
    "    grad = gradient(var) __종료조건 성립 시 까지 미문 값 업데이트__"
   ]
  },
  {
   "cell_type": "code",
   "execution_count": 30,
   "id": "ae251804",
   "metadata": {},
   "outputs": [],
   "source": [
    "import sympy as sym\n",
    "from sympy.abc import x\n",
    "import numpy as np"
   ]
  },
  {
   "cell_type": "code",
   "execution_count": 15,
   "id": "575171a5",
   "metadata": {},
   "outputs": [],
   "source": [
    "def func(val):\n",
    "    fun = sym.poly(x**2 + 2*x + 3)\n",
    "    return fun.subs(x, val), fun"
   ]
  },
  {
   "cell_type": "code",
   "execution_count": 23,
   "id": "abc8ae8b",
   "metadata": {},
   "outputs": [],
   "source": [
    "def func_gradient(fun, val):\n",
    "    _, function = fun(val)\n",
    "    diff = sym.diff(function, x)\n",
    "    return diff.subs(x, val), diff"
   ]
  },
  {
   "cell_type": "code",
   "execution_count": 27,
   "id": "3d59ff92",
   "metadata": {},
   "outputs": [],
   "source": [
    "def gradient_descent(fun, init_point, lr_rate = 1e-2, epsilon = 1e-5):\n",
    "    cnt = 0\n",
    "    val = init_point\n",
    "    diff,_ = func_gradient(fun, init_point)\n",
    "    while np.abs(diff) > epsilon:\n",
    "        val -= lr_rate * diff\n",
    "        diff, _ = func_gradient(fun, val)\n",
    "        cnt += 1\n",
    "    print(f\"함수:{fun(val)[1]}, 연산횟수: {cnt}, 최소점: {val}, {fun(val)[0]}\")"
   ]
  },
  {
   "cell_type": "code",
   "execution_count": 28,
   "id": "2a78dced",
   "metadata": {},
   "outputs": [
    {
     "name": "stdout",
     "output_type": "stream",
     "text": [
      "함수:Poly(x**2 + 2*x + 3, x, domain='ZZ'), 연산횟수: 572, 최소점: -1.00000490024949, 2.00000000002401\n"
     ]
    }
   ],
   "source": [
    "gradient_descent(func, np.random.uniform(-2, 2))"
   ]
  },
  {
   "cell_type": "markdown",
   "id": "c59dd28e",
   "metadata": {},
   "source": [
    "### 변수가 벡터라면?\n",
    "- 백터가 입력인 다변수 함수의 경우 편미문을 사용한다.\n",
    "- 각 변수 별로 편미분을 계산한 gradient 벡터를 이용하여 경사하강/상승법에 사용할 수 있다."
   ]
  },
  {
   "cell_type": "code",
   "execution_count": 31,
   "id": "6d5a325b",
   "metadata": {},
   "outputs": [
    {
     "name": "stderr",
     "output_type": "stream",
     "text": [
      "C:\\Anaconda3\\lib\\site-packages\\sympy\\polys\\polytools.py:75: SymPyDeprecationWarning: \n",
      "\n",
      "Mixing Poly with non-polynomial expressions in binary operations has\n",
      "been deprecated since SymPy 1.6. Use the as_expr or as_poly method to\n",
      "convert types instead. See https://github.com/sympy/sympy/issues/18613\n",
      "for more info.\n",
      "\n",
      "  SymPyDeprecationWarning(\n"
     ]
    },
    {
     "data": {
      "text/latex": [
       "$\\displaystyle 2 x + 2 y - \\sin{\\left(x + 2 y \\right)}$"
      ],
      "text/plain": [
       "2*x + 2*y - sin(x + 2*y)"
      ]
     },
     "execution_count": 31,
     "metadata": {},
     "output_type": "execute_result"
    }
   ],
   "source": [
    "from sympy.abc import x, y\n",
    "\n",
    "sym.diff(sym.poly(x**2 + 2*x*y + 3) + sym.cos(x + 2*y), x)"
   ]
  },
  {
   "cell_type": "markdown",
   "id": "522e3c73",
   "metadata": {},
   "source": [
    "### 그레디언트 벡터\n",
    "\n",
    "https://towardsdatascience.com/a-visual-explanation-of-gradient-descent-methods-momentum-adagrad-rmsprop-adam-f898b102325c\n",
    "\n",
    "- 3차원 공간상 함수 f(x,y)의 편미분 벡터 f는 f(x,y)함수의 최대값으로 향하는 화살표로 볼 수 있다.\n",
    "- 변미분 벡터 f에 '-'를 붙이면  f(x,y) 함수에 최소점으로 향하는 화살표라고 볼 수 있다.\n",
    "- 몇 차원이든 그레디언트 벡터를 이용하면 주어진 함수의 최소값, 최대값을 찾을 수 있고 경사 하강법, 상승법으로 최적화를 할 수 있다."
   ]
  },
  {
   "cell_type": "markdown",
   "id": "0535ad3f",
   "metadata": {},
   "source": [
    "### 그레디언트 벡터 경사하강법 : 알고리즘\n",
    "__input__  \n",
    "- gradient : 그레디언트 벡터를 계산하는 함수\n",
    "- init : 시작점, lr : 학습률, eps : 알고리즘 종료 조건  \n",
    "\n",
    "__경사하강법 알고리즘은 그대로 적용되나 벡터는 절대값 대신 norm을 계산하여 종료조건 명시__  \n",
    "var = init  \n",
    "grad = gradient(var)  \n",
    "while (norm(grad) > eps):  \n",
    "    var -= lr * grad  \n",
    "    grad = gradient(var)  "
   ]
  },
  {
   "cell_type": "code",
   "execution_count": 36,
   "id": "659fae49",
   "metadata": {},
   "outputs": [],
   "source": [
    "def eval_(fun, val):\n",
    "    val_x, val_y = val\n",
    "    fun_eval = fun.subs(x, val_x).subs(y, val_y)\n",
    "    return fun_eval"
   ]
  },
  {
   "cell_type": "code",
   "execution_count": 41,
   "id": "d55e2aec",
   "metadata": {},
   "outputs": [],
   "source": [
    "def func_multi(val):\n",
    "    x_,y_=val\n",
    "    func = sym.poly(x**2 + 2*y**2)\n",
    "    return eval_(func, [x_, y_]), func"
   ]
  },
  {
   "cell_type": "code",
   "execution_count": 47,
   "id": "036e8df5",
   "metadata": {},
   "outputs": [],
   "source": [
    "def func_gradient(fun, val):\n",
    "    x_, y_=val\n",
    "    _, function = fun(val)\n",
    "    diff_x = sym.diff(function, x)\n",
    "    diff_y = sym.diff(function, y)\n",
    "    grad_vec = np.array([eval_(diff_x, [x_, y_]), eval_(diff_y, [x_, y_])], dtype = float)\n",
    "    return grad_vec, [diff_x, diff_y]"
   ]
  },
  {
   "cell_type": "code",
   "execution_count": 54,
   "id": "c03427d5",
   "metadata": {},
   "outputs": [],
   "source": [
    "def gradient_descent(fun, init_point, lr_rate = 1e-2, epsilon = 1e-5):\n",
    "    cnt = 0\n",
    "    val = init_point\n",
    "    diff,_ = func_gradient(fun, val)\n",
    "    while np.linalg.norm(diff) > epsilon:\n",
    "        val -= lr_rate*diff\n",
    "        diff,_=func_gradient(fun, val)\n",
    "        cnt += 1\n",
    "    print(f\"함수: {fun(val)[1]}, 연산횟수:{cnt}, 최소점: {val}, {fun(val)[0]}\")"
   ]
  },
  {
   "cell_type": "code",
   "execution_count": 55,
   "id": "9d2b0e2b",
   "metadata": {},
   "outputs": [
    {
     "name": "stdout",
     "output_type": "stream",
     "text": [
      "함수: Poly(x**2 + 2*y**2, x, y, domain='ZZ'), 연산횟수:603, 최소점: [4.91495332e-06 3.21118043e-11], 2.41567661439022E-11\n"
     ]
    }
   ],
   "source": [
    "pt = [np.random.uniform(-2, 2), np.random.uniform(-2, 2)]\n",
    "gradient_descent(func_multi, pt)"
   ]
  }
 ],
 "metadata": {
  "kernelspec": {
   "display_name": "Python 3",
   "language": "python",
   "name": "python3"
  },
  "language_info": {
   "codemirror_mode": {
    "name": "ipython",
    "version": 3
   },
   "file_extension": ".py",
   "mimetype": "text/x-python",
   "name": "python",
   "nbconvert_exporter": "python",
   "pygments_lexer": "ipython3",
   "version": "3.8.8"
  }
 },
 "nbformat": 4,
 "nbformat_minor": 5
}
