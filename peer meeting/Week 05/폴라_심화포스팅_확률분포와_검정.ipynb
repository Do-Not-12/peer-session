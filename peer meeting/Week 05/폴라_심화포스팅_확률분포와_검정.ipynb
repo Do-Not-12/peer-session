{
 "cells": [
  {
   "cell_type": "code",
   "execution_count": 42,
   "id": "65b3dd16",
   "metadata": {
    "ExecuteTime": {
     "end_time": "2022-02-18T04:46:06.210002Z",
     "start_time": "2022-02-18T04:46:06.206640Z"
    }
   },
   "outputs": [],
   "source": [
    "import numpy as np\n",
    "import scipy as sp\n",
    "import scipy.stats\n",
    "import matplotlib.pyplot as plt\n",
    "import seaborn as sns\n",
    "import pandas as pd\n",
    "import warnings\n",
    "from matplotlib import rc"
   ]
  },
  {
   "cell_type": "code",
   "execution_count": 53,
   "id": "ca43875d",
   "metadata": {
    "ExecuteTime": {
     "end_time": "2022-02-18T07:02:14.560186Z",
     "start_time": "2022-02-18T07:02:14.555681Z"
    }
   },
   "outputs": [],
   "source": [
    "warnings.filterwarnings('ignore')\n",
    "rc('font', family='AppleGothic')\n",
    "\n",
    "plt.rcParams['axes.unicode_minus'] = False"
   ]
  },
  {
   "cell_type": "markdown",
   "id": "5fda31f7",
   "metadata": {},
   "source": [
    "# 확률분포"
   ]
  },
  {
   "cell_type": "markdown",
   "id": "664c9a44",
   "metadata": {},
   "source": [
    "'우리가 분석할 데이터는 어떤 확률변수로부터 실현된 표본'이라는 가정이 데이터 분석의 첫번째 가정입니다.  \n",
    "즉 이 데이터들은 어떤 확률변수의 분포를 통해 만들어진 것이라는 의미입니다. 따라서 우리는 데이터 즉 표본으로부터 확률변수의 분포를 알아내야 합니다."
   ]
  },
  {
   "cell_type": "markdown",
   "id": "057fe74d",
   "metadata": {},
   "source": [
    "## 대표적인 확률분포"
   ]
  },
  {
   "cell_type": "markdown",
   "id": "68116ac4",
   "metadata": {},
   "source": [
    "대표적인 확률분포로는 다음과 같은 것들이 있습니다.\n",
    "\n",
    "1. 베르누이분포 : 데이터가 0 또는 1인 경우\n",
    "2. 카테고리분포 : 데이터가 카테고리 값인 경우\n",
    "3. 베타분포 : 데이터가 0과 1 사이의 실수 값인 경우\n",
    "4. 로그정규분포, 감마분포, F분포, 카이제곱분포, 지수분포 등... : 데이터가 항상 0또는 양수인 경우\n",
    "5. 정규분포, 스튜던트 t분포, 코시분포, 라플라스분포 등... : 데이터가 크기 제한이 없는 실수인 경우\n",
    "\n",
    "그렇다면 이 분포들을 파이썬으로 사용하는 방법이 있을까요?  \n",
    "`scipy` (사이파이) 패키지의 `stats`를 사용하면 이 분포들의 값을 얻어낼 수 있습니다."
   ]
  },
  {
   "cell_type": "code",
   "execution_count": 17,
   "id": "a720e03f",
   "metadata": {
    "ExecuteTime": {
     "end_time": "2022-02-18T03:28:01.972001Z",
     "start_time": "2022-02-18T03:28:01.778681Z"
    }
   },
   "outputs": [
    {
     "data": {
      "image/png": "[encoded data removed]",
      "text/plain": [
       "<Figure size 576x432 with 1 Axes>"
      ]
     },
     "metadata": {
      "needs_background": "light"
     },
     "output_type": "display_data"
    }
   ],
   "source": [
    "np.random.seed(0)\n",
    "plt.figure(figsize=(8, 6))\n",
    "\n",
    "# 베타분포 샘플링\n",
    "x = sp.stats.beta(15, 12).rvs(10000)\n",
    "\n",
    "sns.distplot(x, kde=False, norm_hist=True)\n",
    "plt.title(\"Beta dist'n histrogram\")\n",
    "plt.show()"
   ]
  },
  {
   "cell_type": "markdown",
   "id": "52056506",
   "metadata": {},
   "source": [
    "이런 분포를 활용하면 역으로 데이터의 모수 추정 방법이 유효하다는 것을 입증할 수도 있습니다."
   ]
  },
  {
   "cell_type": "code",
   "execution_count": 14,
   "id": "4bc9c20b",
   "metadata": {
    "ExecuteTime": {
     "end_time": "2022-02-18T03:27:25.780657Z",
     "start_time": "2022-02-18T03:27:25.775951Z"
    }
   },
   "outputs": [
    {
     "name": "stdout",
     "output_type": "stream",
     "text": [
      "(15.346682046700685, 12.2121537049535)\n"
     ]
    }
   ],
   "source": [
    "def estimate_beta(x):\n",
    "    x_bar = x.mean()\n",
    "    s2 = x.var()\n",
    "    a = x_bar * (x_bar * (1 - x_bar) / s2 - 1)\n",
    "    b = (1 - x_bar) * (x_bar * (1 - x_bar) /s2 - 1)\n",
    "    return a, b\n",
    "\n",
    "params = estimate_beta(x)\n",
    "print(params)"
   ]
  },
  {
   "cell_type": "code",
   "execution_count": 16,
   "id": "6cf93528",
   "metadata": {
    "ExecuteTime": {
     "end_time": "2022-02-18T03:27:55.346426Z",
     "start_time": "2022-02-18T03:27:55.152906Z"
    }
   },
   "outputs": [
    {
     "data": {
      "image/png": "[encoded data removed]",
      "text/plain": [
       "<Figure size 576x432 with 1 Axes>"
      ]
     },
     "metadata": {
      "needs_background": "light"
     },
     "output_type": "display_data"
    }
   ],
   "source": [
    "plt.figure(figsize=(8, 6))\n",
    "xx = np.linspace(0, 1, 1000)\n",
    "sns.distplot(x, kde=False, norm_hist=True)\n",
    "plt.plot(xx, sp.stats.beta(params[0], params[1]).pdf(xx))\n",
    "plt.xlim(0, 1)\n",
    "plt.title(\"Beta dist'n histrogram and Estimation\")\n",
    "plt.show()"
   ]
  },
  {
   "cell_type": "markdown",
   "id": "1ef0bacf",
   "metadata": {},
   "source": [
    "`scipy`에 있는 확률분포 클래스 종류는 다음과 같습니다.  \n",
    "- 이산형\n",
    "    - 베르누이분포 (`sp.stats.bernoulli`)\n",
    "    - 이항분포 (`sp.stats.binom`)\n",
    "- 연속형\n",
    "    - 다향분포 (`sp.stats.multinomial`)\n",
    "    - 균일분포 (`sp.stats.uniform`)\n",
    "    - 정규분포 (`sp.stats.norm`)\n",
    "    - 베타분포 (`sp.stats.beta`)\n",
    "    - 감마분포 (`sp.stats.gamma`)\n",
    "    - 스튜던트 t분포 (`sp.stats.t`)\n",
    "    - 카이 제곱분포 (`sp.stats.chi2`)\n",
    "    - F분포 (`sp.stats.f`)\n",
    "    - 디리클레분포 (`sp.stats.dirichlet`)\n",
    "    - 다변수 정규분포 (`sp.stats.multivariate_normal`)\n",
    " \n",
    "각 클래스들에는 다음과 같은 메서드들이 있습니다. 대부분 각 분포들의 함수 형태와 관련된 것들입니다.\n",
    "\n",
    "- `pmf` : 확률질량함수\n",
    "- `pdf` : 확률밀도함수\n",
    "- `cdf` : 누적분포함수\n",
    "- `ppf` : 누적분포함수의 역함수\n",
    "- `sf` : 생존함수 = 1-누적분포함수\n",
    "- `isf` : 생존함수의 역함수\n",
    "- `rvs` : 랜점 표본 생성"
   ]
  },
  {
   "cell_type": "markdown",
   "id": "05770a32",
   "metadata": {},
   "source": [
    "# 검정과 유의확률"
   ]
  },
  {
   "cell_type": "markdown",
   "id": "5d478c3b",
   "metadata": {},
   "source": [
    "**검정**은 데이터에 숨어 있는 확률변수의 분포에 대한 가설이 맞는지 틀리는지 정량적으로 증명하는 과정입니다.  \n",
    "예를 들어 다음과 같은 질문이 있습니다.  \n",
    "\n",
    "> 어떤 동전을 15번 던졌더니 12번 앞면이 나왔다. 이 동전은 조작되지 않은 공정한 동전일까?\n",
    "\n",
    "동전은 0과 1이이 있는 베르누이분포이므로 베르누이분포 확률변수로 모형화하겠습니다.  \n",
    "모수를 추정하면 $p = \\frac{12}{15} = 0.8$로 공정성과는 멀어보입니다.  \n",
    "근데 이것은 단순히 **추정**에 불과합니다. 정말 어쩌다가 우연하게 결과가 나올 수도 있으니까요.  \n",
    "그렇다면 우리는 이 주장을 어떻게 입증할 수 있을까요?"
   ]
  },
  {
   "cell_type": "markdown",
   "id": "69feae7c",
   "metadata": {},
   "source": [
    "## 가설과 검정"
   ]
  },
  {
   "cell_type": "markdown",
   "id": "07162ba0",
   "metadata": {},
   "source": [
    "우리는 우선 주어진 확률분포에 대한 **가설($H$)** 을 설립해야합니다. 이 가설을 증명하는 행위를 **통계적 가설검정** 즉, 검정이라고 합니다.  \n",
    "특히 모숫값이 특정값을 갖는다는 가설을 검정하는 경우 **모수 검정**이라고 합니다."
   ]
  },
  {
   "cell_type": "markdown",
   "id": "581c8b37",
   "metadata": {},
   "source": [
    "## 귀무가설과 대립가설"
   ]
  },
  {
   "cell_type": "markdown",
   "id": "23f913e8",
   "metadata": {},
   "source": [
    "확률분포의 모수에 대한 가설을 **귀무가설($H_0)$** 이라고 합니다.  \n",
    "귀무가설은 확률분포를 특정한 상태로 고정하므로 **반드시 등식**으로 표현해야합니다. 즉, 귀무가설은 어떤 기준점의 상태입니다.  \n",
    "그렇다면 이 기준점 가설이 우리가 입증하려는 가설이면 괜찮은데, 아닌경우도 있습니다.  \n",
    "우리가 이 가설을 반박하고 싶은 경우도 있는데, 이런 경우 **대립가설($H_1)$** 을 세웁니다.  \n",
    "대립가설과 귀무가설을 아래처럼 표기합니다.\n",
    "\n",
    "$$\n",
    "H_0: \\theta = \\theta_0 \\qquad H_1 : \\theta \\neq \\theta_0 \\\\\n",
    "H_0: \\theta = \\theta_0 \\qquad H_1 : \\theta \\lt \\theta_0 \\\\\n",
    "H_0: \\theta = \\theta_0 \\qquad  H_1 : \\theta \\gt \\theta_0\n",
    "$$"
   ]
  },
  {
   "cell_type": "markdown",
   "id": "0ed20070",
   "metadata": {},
   "source": [
    "그렇다면 위에서 말한 동전문제의 검정 가설은 어떻게 세울까요?  \n",
    "\n",
    "$$\n",
    "H_0 : \\mu=0.5 \\qquad H_1 : \\mu \\neq 0.5\n",
    "$$  \n",
    "\n",
    "이를 증명하려면 이제 귀무가설이 틀렸다는 증거를 보여줘야합니다."
   ]
  },
  {
   "cell_type": "markdown",
   "id": "a9a5d992",
   "metadata": {},
   "source": [
    "## 검정 통계량"
   ]
  },
  {
   "cell_type": "markdown",
   "id": "2fd6045c",
   "metadata": {},
   "source": [
    "귀무가설이 맞거나 틀렸다는 것을 증명하려면 어떤 증거가 있어야 합니다.  \n",
    "\n",
    "- ‘어떤 병에 걸렸다’라는 가설을 증명하려면 환자의 혈액을 채취하여 혈액 내의 특정한 성분의 수치를 측정해야 한다고 가정하자. 이때 해당 수치가 바로 검정통계량이 된다.  \n",
    "- ‘어떤 학생이 우등 상장을 받을 수 있는 우등생이다’라는 가설을 증명하려면 시험 성적을 측정하면 된다. 이 시험 성적을 검정통계량이라고 부를 수 있다.\n",
    "\n",
    "이 증거를 담당하는 수치가 바로 **검정통계량($t$)** 이라고 합니다.  \n",
    "문제는 여기서 이 검정통계량도 특정표본에서 계산된 함수이기 때문에 또 다시 확률변수의 표본이 됩니다.  \n",
    "예를 들면 위의 예시로 설명해보면 성적을 통해 학생이 우등생임을 보이려면 우등생인 모든 학생의 시험 성적 분포를 보고 판단해야합니다.  \n",
    "이 과정이 수식적 유도과정으로는 굉장히 어렵기 때문에 **시뮬레이션**을 활용하거나 통계학자들이 특정한 **검정통계량 확률분포**만 사용합니다.  "
   ]
  },
  {
   "cell_type": "markdown",
   "id": "a4ac0026",
   "metadata": {},
   "source": [
    "## 유의확률"
   ]
  },
  {
   "cell_type": "markdown",
   "id": "43af04af",
   "metadata": {},
   "source": [
    "지금까지 2가지 정보를 얻었습니다.  \n",
    "\n",
    "- 검정통계량이 따르는 검정통계량 $t$의 확률분포 $p_{T}(x)$를 알고 있습니다. (통계학자들이 구해줌)\n",
    "- 실제 데이터에 구한 검정통계량의 값 $t_0$, 즉 확률분포 $p_{T}(x)$의 표본 1개를 갖고 있습니다.\n",
    "\n",
    "만약 우리가 설정한 귀무가설이 사실이라면 실제 데이터에서ㅓ 구한 검정통계량 값은 검정통계량 확률분포를 따르므로 기댓값 근방의 값이 나올 겁니다.  \n",
    "반대로 귀무가설이 사실이 아니면 실제 데이터에서 구한 검정통계량의 값은 검정통계량에서 나오기 어려울 것입니다."
   ]
  },
  {
   "cell_type": "code",
   "execution_count": 23,
   "id": "42a6d4a3",
   "metadata": {
    "ExecuteTime": {
     "end_time": "2022-02-18T04:10:17.717696Z",
     "start_time": "2022-02-18T04:10:17.385124Z"
    }
   },
   "outputs": [
    {
     "data": {
      "image/png": "[encoded data removed]",
      "text/plain": [
       "<Figure size 576x288 with 2 Axes>"
      ]
     },
     "metadata": {
      "needs_background": "light"
     },
     "output_type": "display_data"
    }
   ],
   "source": [
    "xx1 = np.linspace(-4, 4, 100)\n",
    "\n",
    "black = {\"facecolor\": \"black\"}\n",
    "plt.figure(figsize=(8, 4))\n",
    "\n",
    "plt.subplot(121)\n",
    "plt.title(\"가능성이 높은 검정통계량이 나온 경우\")\n",
    "plt.plot(xx1, sp.stats.norm.pdf(xx1))\n",
    "plt.plot(0.5, 0, \"ro\")\n",
    "plt.annotate('실제 검정통계량', xy=(0.5, 0.01), xytext=(0.85, 0.1), arrowprops=black)\n",
    "\n",
    "plt.subplot(122)\n",
    "plt.title(\"가능성이 낮은 검정통계량이 나온 경우\")\n",
    "plt.plot(xx1, sp.stats.norm.pdf(xx1))\n",
    "plt.plot(2.2, 0, \"ro\")\n",
    "plt.annotate('실제 검정통계량 $t_0$', xy=(2.2, 0.01), xytext=(0.85, 0.1), arrowprops=black)\n",
    "\n",
    "plt.suptitle(\"검정통계량 분포와 실제 검정통계량의 값\", y=1.05)\n",
    "plt.tight_layout()\n",
    "plt.show()"
   ]
  },
  {
   "cell_type": "markdown",
   "id": "710fff1d",
   "metadata": {},
   "source": [
    "그렇다면 이렇게 나오기 쉬운 값인지 아닌지를 숫자로 판단할 수 있는 방법이 있을까요?  \n",
    "그 방법이 바로 **유의확률(p-value)** 입니다.  \n",
    "\n",
    "유의확률은 **확률분포와 확률분포의 표본값 1개가 주어졌을 때 그 확률분포에서 해당 표본값 혹은 더 희귀한 값이 나올 수 있는 확률**로 정의합니다."
   ]
  },
  {
   "cell_type": "code",
   "execution_count": 24,
   "id": "e8731440",
   "metadata": {
    "ExecuteTime": {
     "end_time": "2022-02-18T04:13:28.523855Z",
     "start_time": "2022-02-18T04:13:28.158182Z"
    }
   },
   "outputs": [
    {
     "data": {
      "image/png": "[encoded data removed]",
      "text/plain": [
       "<Figure size 576x288 with 2 Axes>"
      ]
     },
     "metadata": {
      "needs_background": "light"
     },
     "output_type": "display_data"
    }
   ],
   "source": [
    "xx1 = np.linspace(-4, 4, 100)\n",
    "\n",
    "black = {\"facecolor\": \"black\"}\n",
    "plt.figure(figsize=(8, 4))\n",
    "\n",
    "plt.subplot(121)\n",
    "plt.title(\"유의확률이 큰 경우\")\n",
    "plt.plot(xx1, sp.stats.norm.pdf(xx1))\n",
    "plt.plot(0.5, 0, \"ro\")\n",
    "plt.annotate('실제 검정통계량 $t_0$', xy=(0.5, 0.01), xytext=(0.85, 0.1), arrowprops=black)\n",
    "xx2 = np.linspace(-4, -0.5, 100)\n",
    "xx3 = np.linspace(0.5, 4, 100)\n",
    "plt.fill_between(xx2, sp.stats.norm.pdf(xx2), facecolor='blue', alpha=0.35)\n",
    "plt.fill_between(xx3, sp.stats.norm.pdf(xx3), facecolor='blue', alpha=0.35)\n",
    "plt.annotate('유의확률', xy=(-1.5, 0.05), xytext=(-3.5, 0.1), arrowprops=black)\n",
    "\n",
    "plt.subplot(122)\n",
    "plt.title(\"유의확률이 작은 경우\")\n",
    "plt.plot(xx1, sp.stats.norm.pdf(xx1))\n",
    "plt.plot(2.2, 0, \"ro\")\n",
    "plt.annotate('실제 검정통계량 $t_0$', xy=(2.2, 0.01), xytext=(0.85, 0.1), arrowprops=black)\n",
    "xx2 = np.linspace(-4, -2.2, 100)\n",
    "xx3 = np.linspace(2.2, 4, 100)\n",
    "plt.fill_between(xx2, sp.stats.norm.pdf(xx2), facecolor='blue', alpha=0.35)\n",
    "plt.fill_between(xx3, sp.stats.norm.pdf(xx3), facecolor='blue', alpha=0.35)\n",
    "plt.annotate('유의확률', xy=(-2.5, 0.01), xytext=(-3.5, 0.1), arrowprops=black)\n",
    "\n",
    "plt.suptitle(\"검정통계량 분포와 실제 검정통계량 $t_0$의 값\", y=1.05)\n",
    "plt.tight_layout()\n",
    "plt.show()"
   ]
  },
  {
   "cell_type": "markdown",
   "id": "7636d4bd",
   "metadata": {},
   "source": [
    "## 유의수준과 기각역"
   ]
  },
  {
   "cell_type": "markdown",
   "id": "10cbac9f",
   "metadata": {},
   "source": [
    "유의확률이 아주 작다는 것은 **귀무가설이 맞다는 가정하에 현재 통계량 값이 나올 가능성이 매우 작다는 것**입니다.  \n",
    "결국 **유의확률값이 아주 작으면 귀무가설을 기각하고 대립가설을 채택**할 수 있습니다.  \n",
    "쉽게 말하면 귀무가설이 맞다는 가정하에 현재의 실제 결과가 나올 가능성이 없다면 귀무가설이 틀렸다는 반증이 됩니다.\n",
    "\n",
    "문제는 여기서 말하는 **아주 작다**의 기준이 뭐냐?입니다.  \n",
    "그래서 보통 기준값을 정하는데 이를 **유의수준**이라 하고 1%, 5%, 10%선에서 결정합니다.  \n",
    "\n",
    "> 유의확률이 유의수준보다 작으면 귀무가설을 기각하고 대립가설을 채택한다."
   ]
  },
  {
   "cell_type": "markdown",
   "id": "fa25cfa0",
   "metadata": {},
   "source": [
    "## 실제 예시 : 동전의 공정성 분석"
   ]
  },
  {
   "cell_type": "markdown",
   "id": "21a43e73",
   "metadata": {},
   "source": [
    "자 대충 이론적인 내용을 봤으니 위의 동전예시에 적용해봅시다.  \n",
    "\n",
    "우선 $H_0 : \\mu = 0.5$ 입니다.  \n",
    "여기서 우리는 동전이 공정하지 않다는 것을 보이고 싶으니까 $H_1 : \\mu \\neq 0.5$로 설정합시다.\n",
    "\n",
    "우리의 동전은 0.8의 확률을 갖고 있었습니다."
   ]
  },
  {
   "cell_type": "code",
   "execution_count": 27,
   "id": "4bb96e7f",
   "metadata": {
    "ExecuteTime": {
     "end_time": "2022-02-18T04:24:17.013772Z",
     "start_time": "2022-02-18T04:24:17.008507Z"
    }
   },
   "outputs": [
    {
     "data": {
      "text/plain": [
       "0.035156250000000014"
      ]
     },
     "execution_count": 27,
     "metadata": {},
     "output_type": "execute_result"
    }
   ],
   "source": [
    "sp.stats.binom_test(12, 15)"
   ]
  },
  {
   "cell_type": "markdown",
   "id": "e78ed605",
   "metadata": {},
   "source": [
    "귀무가설 0.5 가정하에 15번 수행 중 12번의 1이 나오면 p-value는 0.035가 나옵니다.  \n",
    "이 경우 유의확률 5%로 볼 경우 $0.05 > \\text{p-value}$이므로 귀무가설이 기각되고 해당 동전은 공정하지 못합니다."
   ]
  },
  {
   "cell_type": "markdown",
   "id": "ae85a0bd",
   "metadata": {},
   "source": [
    "# `scipy`를 통한 검정법"
   ]
  },
  {
   "cell_type": "markdown",
   "id": "ebab8162",
   "metadata": {},
   "source": [
    "그렇다면 이제 `scipy`를 통해 다양한 분포 검정을 해봅시다. 종류는 다음과 같이 있습니다.  "
   ]
  },
  {
   "cell_type": "markdown",
   "id": "9fb6ee69",
   "metadata": {},
   "source": [
    "## 이항검정 "
   ]
  },
  {
   "cell_type": "markdown",
   "id": "73baf5d1",
   "metadata": {},
   "source": [
    "```python\n",
    "scipy.stats.binom_test(x, n=None, p=0.5, alternative='two-sides')\n",
    "```\n",
    "- `x` : 1이 나온 횟수\n",
    "- `n` : 총 시도 횟수\n",
    "- `p` : 귀무가설의 $\\mu$ 값\n",
    "- `alternative` : 양측검정은 'two-sided', 단측검정이면 'less' 또는 'greater'\n",
    "\n",
    "이항검정은 이항분포를 활용하여 베르누이 확률변수의 모수 $\\mu$에 대한 가설을 조사하는 방법입니다."
   ]
  },
  {
   "cell_type": "code",
   "execution_count": 28,
   "id": "9b7efeef",
   "metadata": {
    "ExecuteTime": {
     "end_time": "2022-02-18T04:33:15.744740Z",
     "start_time": "2022-02-18T04:33:15.739319Z"
    }
   },
   "outputs": [
    {
     "data": {
      "text/plain": [
       "0.035156250000000014"
      ]
     },
     "execution_count": 28,
     "metadata": {},
     "output_type": "execute_result"
    }
   ],
   "source": [
    "sp.stats.binom_test(12, 15)"
   ]
  },
  {
   "cell_type": "markdown",
   "id": "5245cc95",
   "metadata": {},
   "source": [
    "## 카이제곱검정 "
   ]
  },
  {
   "cell_type": "markdown",
   "id": "40c9c359",
   "metadata": {},
   "source": [
    "```python\n",
    "scipy.stats.chisquare(f_obs, f_exp=None)\n",
    "```\n",
    "- `f_obs` : 데이터 행렬\n",
    "- `f_exp` : 기댓값 행렬\n",
    "\n",
    "카이제곱검정은 범주형 확률분포에 대한 검정을 할때 사용합니다. **적합도검정**이라고도 합니다.  \n",
    "전반적으로 범주형 자료를 담다보니 입력 parameter는 행렬값으로 가져옵니다. 하지만 각 값은 이항검정 케이스와 유사합니다."
   ]
  },
  {
   "cell_type": "markdown",
   "id": "0ab6136b",
   "metadata": {},
   "source": [
    "데이터 개수 N=10, 귀무가설 모수 $\\mu_0 = (0.25, 0.25, 0.25, 0.25)$ 이고 실제 데이터는 (0, 3, 5, 2)인 경우에 대해 검정을 해봅시다."
   ]
  },
  {
   "cell_type": "code",
   "execution_count": 29,
   "id": "ce7b545c",
   "metadata": {
    "ExecuteTime": {
     "end_time": "2022-02-18T04:36:38.508365Z",
     "start_time": "2022-02-18T04:36:38.499742Z"
    }
   },
   "outputs": [
    {
     "data": {
      "text/plain": [
       "array([0, 3, 5, 2])"
      ]
     },
     "execution_count": 29,
     "metadata": {},
     "output_type": "execute_result"
    }
   ],
   "source": [
    "N = 10\n",
    "K = 4\n",
    "mu_0 = np.ones(K)/K\n",
    "np.random.seed(0)\n",
    "x = np.random.choice(K, N, p=mu_0)\n",
    "n = np.bincount(x, minlength=K)\n",
    "n"
   ]
  },
  {
   "cell_type": "code",
   "execution_count": 34,
   "id": "7ff96037",
   "metadata": {
    "ExecuteTime": {
     "end_time": "2022-02-18T04:37:45.791535Z",
     "start_time": "2022-02-18T04:37:45.786552Z"
    }
   },
   "outputs": [
    {
     "data": {
      "text/plain": [
       "Power_divergenceResult(statistic=5.199999999999999, pvalue=0.157724450396663)"
      ]
     },
     "execution_count": 34,
     "metadata": {},
     "output_type": "execute_result"
    }
   ],
   "source": [
    "sp.stats.chisquare(n)"
   ]
  },
  {
   "cell_type": "markdown",
   "id": "e6c5baf5",
   "metadata": {},
   "source": [
    "## 카이제곱 독립성검정"
   ]
  },
  {
   "cell_type": "markdown",
   "id": "f754ba43",
   "metadata": {},
   "source": [
    "```python\n",
    "scipy.stats.chi2_contingency(table)\n",
    "```\n",
    "\n",
    "두 범주형 변수의 상관관계를 분석할 때 사용합니다.  \n",
    "보통 두 변수가 독립인지 아닌지를 확인할 때 많이 사용합니다."
   ]
  },
  {
   "cell_type": "code",
   "execution_count": 35,
   "id": "161fa148",
   "metadata": {
    "ExecuteTime": {
     "end_time": "2022-02-18T04:40:41.003350Z",
     "start_time": "2022-02-18T04:40:40.998376Z"
    }
   },
   "outputs": [
    {
     "data": {
      "text/plain": [
       "array([[ 5, 15],\n",
       "       [10, 20]])"
      ]
     },
     "execution_count": 35,
     "metadata": {},
     "output_type": "execute_result"
    }
   ],
   "source": [
    "obs = np.array([[5, 15], [10, 20]])\n",
    "obs"
   ]
  },
  {
   "cell_type": "code",
   "execution_count": 40,
   "id": "3868844e",
   "metadata": {
    "ExecuteTime": {
     "end_time": "2022-02-18T04:41:56.609926Z",
     "start_time": "2022-02-18T04:41:56.605284Z"
    }
   },
   "outputs": [
    {
     "data": {
      "text/plain": [
       "(0.0992063492063492, 0.7527841326498471)"
      ]
     },
     "execution_count": 40,
     "metadata": {},
     "output_type": "execute_result"
    }
   ],
   "source": [
    "sp.stats.chi2_contingency(obs)[0], sp.stats.chi2_contingency(obs)[1] # cor, p-value"
   ]
  },
  {
   "cell_type": "code",
   "execution_count": 43,
   "id": "dfdf7bc9",
   "metadata": {
    "ExecuteTime": {
     "end_time": "2022-02-18T04:46:10.653020Z",
     "start_time": "2022-02-18T04:46:10.628100Z"
    }
   },
   "outputs": [
    {
     "data": {
      "text/html": [
       "<div>\n",
       "<style scoped>\n",
       "    .dataframe tbody tr th:only-of-type {\n",
       "        vertical-align: middle;\n",
       "    }\n",
       "\n",
       "    .dataframe tbody tr th {\n",
       "        vertical-align: top;\n",
       "    }\n",
       "\n",
       "    .dataframe thead th {\n",
       "        text-align: right;\n",
       "    }\n",
       "</style>\n",
       "<table border=\"1\" class=\"dataframe\">\n",
       "  <thead>\n",
       "    <tr style=\"text-align: right;\">\n",
       "      <th></th>\n",
       "      <th>notObese</th>\n",
       "      <th>Obese</th>\n",
       "    </tr>\n",
       "  </thead>\n",
       "  <tbody>\n",
       "    <tr>\n",
       "      <th>Diabetic</th>\n",
       "      <td>173</td>\n",
       "      <td>27</td>\n",
       "    </tr>\n",
       "    <tr>\n",
       "      <th>nonDiabetic</th>\n",
       "      <td>259</td>\n",
       "      <td>61</td>\n",
       "    </tr>\n",
       "  </tbody>\n",
       "</table>\n",
       "</div>"
      ],
      "text/plain": [
       "             notObese  Obese\n",
       "Diabetic          173     27\n",
       "nonDiabetic       259     61"
      ]
     },
     "execution_count": 43,
     "metadata": {},
     "output_type": "execute_result"
    }
   ],
   "source": [
    "# Create contingency table \n",
    "OD = pd.DataFrame({'notObese': [173, 259],\n",
    "                   'Obese' : [27, 61]},index ={'nonDiabetic','Diabetic'})\n",
    "OD"
   ]
  },
  {
   "cell_type": "code",
   "execution_count": 45,
   "id": "fda6495a",
   "metadata": {
    "ExecuteTime": {
     "end_time": "2022-02-18T04:46:23.300707Z",
     "start_time": "2022-02-18T04:46:23.295510Z"
    }
   },
   "outputs": [
    {
     "name": "stdout",
     "output_type": "stream",
     "text": [
      "chi-square statistic: 2.3274739583333344\n",
      "p-value: 0.12710799319896815\n",
      "degree of freedom: 1\n",
      "expected contingency table\n",
      "[[166.15384615  33.84615385]\n",
      " [265.84615385  54.15384615]]\n"
     ]
    }
   ],
   "source": [
    "# chi-square test\n",
    "chiRes = sp.stats.chi2_contingency(OD)\n",
    "# Details\n",
    "print(f'chi-square statistic: {chiRes[0]}')\n",
    "print(f'p-value: {chiRes[1]}')\n",
    "print(f'degree of freedom: {chiRes[2]}')\n",
    "print('expected contingency table') \n",
    "print(chiRes[3])"
   ]
  },
  {
   "cell_type": "code",
   "execution_count": 46,
   "id": "6d94c368",
   "metadata": {
    "ExecuteTime": {
     "end_time": "2022-02-18T04:46:35.760036Z",
     "start_time": "2022-02-18T04:46:35.750881Z"
    }
   },
   "outputs": [
    {
     "data": {
      "text/html": [
       "<div>\n",
       "<style scoped>\n",
       "    .dataframe tbody tr th:only-of-type {\n",
       "        vertical-align: middle;\n",
       "    }\n",
       "\n",
       "    .dataframe tbody tr th {\n",
       "        vertical-align: top;\n",
       "    }\n",
       "\n",
       "    .dataframe thead th {\n",
       "        text-align: right;\n",
       "    }\n",
       "</style>\n",
       "<table border=\"1\" class=\"dataframe\">\n",
       "  <thead>\n",
       "    <tr style=\"text-align: right;\">\n",
       "      <th></th>\n",
       "      <th>Blue</th>\n",
       "      <th>Brown</th>\n",
       "      <th>Green</th>\n",
       "      <th>Hazel</th>\n",
       "    </tr>\n",
       "  </thead>\n",
       "  <tbody>\n",
       "    <tr>\n",
       "      <th>Male</th>\n",
       "      <td>370</td>\n",
       "      <td>352</td>\n",
       "      <td>198</td>\n",
       "      <td>187</td>\n",
       "    </tr>\n",
       "    <tr>\n",
       "      <th>Female</th>\n",
       "      <td>359</td>\n",
       "      <td>290</td>\n",
       "      <td>110</td>\n",
       "      <td>169</td>\n",
       "    </tr>\n",
       "  </tbody>\n",
       "</table>\n",
       "</div>"
      ],
      "text/plain": [
       "        Blue  Brown  Green  Hazel\n",
       "Male     370    352    198    187\n",
       "Female   359    290    110    169"
      ]
     },
     "execution_count": 46,
     "metadata": {},
     "output_type": "execute_result"
    }
   ],
   "source": [
    "# Create the contigency table\n",
    "GE = pd.DataFrame({'Blue' :[370, 359],\n",
    "                   'Brown':[352, 290],\n",
    "                   'Green':[198, 110],\n",
    "                   'Hazel':[187, 169]},index={'Female','Male'})\n",
    "GE"
   ]
  },
  {
   "cell_type": "code",
   "execution_count": 48,
   "id": "0f6fc16f",
   "metadata": {
    "ExecuteTime": {
     "end_time": "2022-02-18T04:46:46.858257Z",
     "start_time": "2022-02-18T04:46:46.853326Z"
    }
   },
   "outputs": [
    {
     "name": "stdout",
     "output_type": "stream",
     "text": [
      "chi-square statistic: 16.589883392436516\n",
      "p-value: 0.0008581329522990205\n",
      "degree of freedom: 3\n",
      "expected contingency table\n",
      "[[396.56167076 349.23538084 167.54594595 193.65700246]\n",
      " [332.43832924 292.76461916 140.45405405 162.34299754]]\n"
     ]
    }
   ],
   "source": [
    "# chi-square test\n",
    "chiRes2 = sp.stats.chi2_contingency(GE)\n",
    "# Details\n",
    "print(f'chi-square statistic: {chiRes2[0]}')\n",
    "print(f'p-value: {chiRes2[1]}')\n",
    "print(f'degree of freedom: {chiRes2[2]}')\n",
    "print('expected contingency table') \n",
    "print(chiRes2[3])"
   ]
  },
  {
   "cell_type": "markdown",
   "id": "80d21181",
   "metadata": {},
   "source": [
    "## 점 양분 상관계수 (point-biserial correlation)"
   ]
  },
  {
   "cell_type": "markdown",
   "id": "d5fc80cf",
   "metadata": {},
   "source": [
    "두 범주형 변수의 상관성은 카이제곱 독립성 검정을 통해 알 수 있습니다.  \n",
    "그렇다면 연령과 범주형 변수처럼 연속형 변수와 범주형 변수의 상관관계는 어떻게 알 수 있을까요?  "
   ]
  },
  {
   "cell_type": "markdown",
   "id": "a6ba9adc",
   "metadata": {},
   "source": [
    "```python\n",
    "scipy.stats.pointbiserialr(X, y)\n",
    "```"
   ]
  },
  {
   "cell_type": "code",
   "execution_count": 50,
   "id": "3d36e193",
   "metadata": {
    "ExecuteTime": {
     "end_time": "2022-02-18T04:49:21.357488Z",
     "start_time": "2022-02-18T04:49:21.352624Z"
    }
   },
   "outputs": [
    {
     "name": "stdout",
     "output_type": "stream",
     "text": [
      "y values: [1, 0, 0, 1, 0, 0, 0, 0, 1, 1]\n",
      "X values: [16, 9, 5, 19, 2, 10, 7, 8, 17, 16]\n"
     ]
    }
   ],
   "source": [
    "import random\n",
    "# initialize random number generator\n",
    "random.seed(36)\n",
    "# Assume y is studied (1)/ not studied (0) \n",
    "# X is the test score, max 20 marks\n",
    "y = [random.randint(0, 1) for num in range(0, 10)]\n",
    "print(f'y values: {y}')\n",
    "X = []\n",
    "for i in y:\n",
    "    if i != 0:\n",
    "        ele = random.randint(11, 20)        \n",
    "    else:\n",
    "        ele = random.randint(1, 10) # 1-10 not studied\n",
    "    X.append(ele)\n",
    "print(f'X values: {X}')"
   ]
  },
  {
   "cell_type": "code",
   "execution_count": 52,
   "id": "bd0ea72f",
   "metadata": {
    "ExecuteTime": {
     "end_time": "2022-02-18T04:49:31.487257Z",
     "start_time": "2022-02-18T04:49:31.478051Z"
    }
   },
   "outputs": [
    {
     "name": "stdout",
     "output_type": "stream",
     "text": [
      "correlation between X and y: 0.91\n",
      "p-value: 0.00021\n"
     ]
    }
   ],
   "source": [
    "# point-biserial correlation\n",
    "# output is a tuple\n",
    "result = sp.stats.pointbiserialr(X, y)\n",
    "print(f'correlation between X and y: {result[0]:.2f}')\n",
    "print(f'p-value: {result[1]:.2g}')"
   ]
  },
  {
   "cell_type": "markdown",
   "id": "13a2ae96",
   "metadata": {},
   "source": [
    "# References"
   ]
  },
  {
   "cell_type": "markdown",
   "id": "90ac3605",
   "metadata": {},
   "source": [
    "- 김도영의 데이터사이언스 스쿨 : 9.4 검정과 유의확률, [https://datascienceschool.net/02%20mathematics/09.04%20검정과%20유의확률.html](https://datascienceschool.net/02%20mathematics/09.04%20검정과%20유의확률.html)\n",
    "- 김도영의 데이터사이언스 스쿨 : 9.5 사이파이를 사용한 검정, [https://datascienceschool.net/02%20mathematics/09.05%20사이파이를%20사용한%20검정.html#](https://datascienceschool.net/02%20mathematics/09.05%20사이파이를%20사용한%20검정.html#)\n",
    "- Navigating Statistical Tests [https://towardsdatascience.com/levels-of-measurement-statistics-and-python-implementations-8ff8e7867d0b](https://towardsdatascience.com/levels-of-measurement-statistics-and-python-implementations-8ff8e7867d0b)"
   ]
  },
  {
   "cell_type": "code",
   "execution_count": null,
   "id": "b3b460a9",
   "metadata": {},
   "outputs": [],
   "source": []
  }
 ],
 "metadata": {
  "kernelspec": {
   "display_name": "Python 3",
   "language": "python",
   "name": "python3"
  },
  "language_info": {
   "codemirror_mode": {
    "name": "ipython",
    "version": 3
   },
   "file_extension": ".py",
   "mimetype": "text/x-python",
   "name": "python",
   "nbconvert_exporter": "python",
   "pygments_lexer": "ipython3",
   "version": "3.8.8"
  },
  "toc": {
   "base_numbering": 1,
   "nav_menu": {},
   "number_sections": true,
   "sideBar": true,
   "skip_h1_title": false,
   "title_cell": "Table of Contents",
   "title_sidebar": "Contents",
   "toc_cell": false,
   "toc_position": {
    "height": "calc(100% - 180px)",
    "left": "10px",
    "top": "150px",
    "width": "219px"
   },
   "toc_section_display": true,
   "toc_window_display": true
  },
  "varInspector": {
   "cols": {
    "lenName": 16,
    "lenType": 16,
    "lenVar": 40
   },
   "kernels_config": {
    "python": {
     "delete_cmd_postfix": "",
     "delete_cmd_prefix": "del ",
     "library": "var_list.py",
     "varRefreshCmd": "print(var_dic_list())"
    },
    "r": {
     "delete_cmd_postfix": ") ",
     "delete_cmd_prefix": "rm(",
     "library": "var_list.r",
     "varRefreshCmd": "cat(var_dic_list()) "
    }
   },
   "types_to_exclude": [
    "module",
    "function",
    "builtin_function_or_method",
    "instance",
    "_Feature"
   ],
   "window_display": false
  }
 },
 "nbformat": 4,
 "nbformat_minor": 5
}
